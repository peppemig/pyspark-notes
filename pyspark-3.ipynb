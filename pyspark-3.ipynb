{
 "cells": [
  {
   "cell_type": "code",
   "execution_count": 1,
   "id": "90079e41",
   "metadata": {},
   "outputs": [],
   "source": [
    "import pyspark"
   ]
  },
  {
   "cell_type": "code",
   "execution_count": 2,
   "id": "611d56ea",
   "metadata": {},
   "outputs": [],
   "source": [
    "from pyspark.sql import SparkSession"
   ]
  },
  {
   "cell_type": "code",
   "execution_count": 3,
   "id": "e5f73c57",
   "metadata": {},
   "outputs": [],
   "source": [
    "spark=SparkSession.builder.appName('Practise').getOrCreate()"
   ]
  },
  {
   "cell_type": "code",
   "execution_count": 8,
   "id": "9527546f",
   "metadata": {},
   "outputs": [],
   "source": [
    "## read data set\n",
    "df=spark.read.csv('test3.csv',header=True,inferSchema=True)"
   ]
  },
  {
   "cell_type": "code",
   "execution_count": 9,
   "id": "3d1dbccb",
   "metadata": {},
   "outputs": [
    {
     "name": "stdout",
     "output_type": "stream",
     "text": [
      "+--------+----+----------+------+\n",
      "|    Name| Age|Experience|Salary|\n",
      "+--------+----+----------+------+\n",
      "|Giuseppe|  23|        10| 30000|\n",
      "|   Mario|  45|         8| 25000|\n",
      "|   Fabio|  65|         4| 20000|\n",
      "|    Luca|  24|         3| 15000|\n",
      "| Antonio|  26|         1| 23000|\n",
      "|   Marco|null|      null| 40000|\n",
      "|    null|  34|        10| 38000|\n",
      "|    null|  36|      null|  null|\n",
      "|    null|null|      null|  null|\n",
      "+--------+----+----------+------+\n",
      "\n"
     ]
    }
   ],
   "source": [
    "## show df\n",
    "df.show()"
   ]
  },
  {
   "cell_type": "code",
   "execution_count": 10,
   "id": "98fd4e95",
   "metadata": {},
   "outputs": [
    {
     "name": "stdout",
     "output_type": "stream",
     "text": [
      "+----+----------+------+\n",
      "| Age|Experience|Salary|\n",
      "+----+----------+------+\n",
      "|  23|        10| 30000|\n",
      "|  45|         8| 25000|\n",
      "|  65|         4| 20000|\n",
      "|  24|         3| 15000|\n",
      "|  26|         1| 23000|\n",
      "|null|      null| 40000|\n",
      "|  34|        10| 38000|\n",
      "|  36|      null|  null|\n",
      "|null|      null|  null|\n",
      "+----+----------+------+\n",
      "\n"
     ]
    }
   ],
   "source": [
    "## drop columns\n",
    "df.drop('Name').show()"
   ]
  },
  {
   "cell_type": "code",
   "execution_count": 11,
   "id": "d5f9e8e8",
   "metadata": {},
   "outputs": [
    {
     "name": "stdout",
     "output_type": "stream",
     "text": [
      "+--------+---+----------+------+\n",
      "|    Name|Age|Experience|Salary|\n",
      "+--------+---+----------+------+\n",
      "|Giuseppe| 23|        10| 30000|\n",
      "|   Mario| 45|         8| 25000|\n",
      "|   Fabio| 65|         4| 20000|\n",
      "|    Luca| 24|         3| 15000|\n",
      "| Antonio| 26|         1| 23000|\n",
      "+--------+---+----------+------+\n",
      "\n"
     ]
    }
   ],
   "source": [
    "## na.drop with no parameters - even if there's just 1 null entire row will be deleted\n",
    "## how==any - default\n",
    "df.na.drop().show()"
   ]
  },
  {
   "cell_type": "code",
   "execution_count": 13,
   "id": "29538444",
   "metadata": {},
   "outputs": [
    {
     "name": "stdout",
     "output_type": "stream",
     "text": [
      "+--------+----+----------+------+\n",
      "|    Name| Age|Experience|Salary|\n",
      "+--------+----+----------+------+\n",
      "|Giuseppe|  23|        10| 30000|\n",
      "|   Mario|  45|         8| 25000|\n",
      "|   Fabio|  65|         4| 20000|\n",
      "|    Luca|  24|         3| 15000|\n",
      "| Antonio|  26|         1| 23000|\n",
      "|   Marco|null|      null| 40000|\n",
      "|    null|  34|        10| 38000|\n",
      "|    null|  36|      null|  null|\n",
      "+--------+----+----------+------+\n",
      "\n"
     ]
    }
   ],
   "source": [
    "## how==any -> even just 1 null|entire row deleted - default setting\n",
    "## how==all -> only deletes row where every column is null\n",
    "df.na.drop(how='all').show()"
   ]
  },
  {
   "cell_type": "code",
   "execution_count": 21,
   "id": "b01cf8d2",
   "metadata": {},
   "outputs": [
    {
     "name": "stdout",
     "output_type": "stream",
     "text": [
      "+--------+----+----------+------+\n",
      "|    Name| Age|Experience|Salary|\n",
      "+--------+----+----------+------+\n",
      "|Giuseppe|  23|        10| 30000|\n",
      "|   Mario|  45|         8| 25000|\n",
      "|   Fabio|  65|         4| 20000|\n",
      "|    Luca|  24|         3| 15000|\n",
      "| Antonio|  26|         1| 23000|\n",
      "|   Marco|null|      null| 40000|\n",
      "|    null|  34|        10| 38000|\n",
      "+--------+----+----------+------+\n",
      "\n"
     ]
    }
   ],
   "source": [
    "## threshold\n",
    "## example thresh=2 - there are at least 2 NON NULL VALUES IN THAT ROW\n",
    "df.na.drop(how='any',thresh=2).show()"
   ]
  },
  {
   "cell_type": "code",
   "execution_count": 22,
   "id": "48311ce8",
   "metadata": {},
   "outputs": [
    {
     "name": "stdout",
     "output_type": "stream",
     "text": [
      "+--------+---+----------+------+\n",
      "|    Name|Age|Experience|Salary|\n",
      "+--------+---+----------+------+\n",
      "|Giuseppe| 23|        10| 30000|\n",
      "|   Mario| 45|         8| 25000|\n",
      "|   Fabio| 65|         4| 20000|\n",
      "|    Luca| 24|         3| 15000|\n",
      "| Antonio| 26|         1| 23000|\n",
      "|    null| 34|        10| 38000|\n",
      "+--------+---+----------+------+\n",
      "\n"
     ]
    }
   ],
   "source": [
    "## subset\n",
    "## example subset=['Experience'] - only delete rows where \"Experience\" column has null value\n",
    "df.na.drop(how='any',subset=['Experience']).show()"
   ]
  },
  {
   "cell_type": "code",
   "execution_count": 28,
   "id": "9d52792c",
   "metadata": {},
   "outputs": [
    {
     "name": "stdout",
     "output_type": "stream",
     "text": [
      "+-------------+----+----------+------+\n",
      "|         Name| Age|Experience|Salary|\n",
      "+-------------+----+----------+------+\n",
      "|     Giuseppe|  23|        10| 30000|\n",
      "|        Mario|  45|         8| 25000|\n",
      "|        Fabio|  65|         4| 20000|\n",
      "|         Luca|  24|         3| 15000|\n",
      "|      Antonio|  26|         1| 23000|\n",
      "|        Marco|null|      null| 40000|\n",
      "|Missing value|  34|        10| 38000|\n",
      "|Missing value|  36|      null|  null|\n",
      "|Missing value|null|      null|  null|\n",
      "+-------------+----+----------+------+\n",
      "\n"
     ]
    }
   ],
   "source": [
    "## filling missing values - in this case it will only work for string types because inferSchema = True\n",
    "df.na.fill('Missing value').show()"
   ]
  },
  {
   "cell_type": "code",
   "execution_count": 30,
   "id": "e40e0e33",
   "metadata": {},
   "outputs": [
    {
     "name": "stdout",
     "output_type": "stream",
     "text": [
      "+--------+---+----------+------+\n",
      "|    Name|Age|Experience|Salary|\n",
      "+--------+---+----------+------+\n",
      "|Giuseppe| 23|        10| 30000|\n",
      "|   Mario| 45|         8| 25000|\n",
      "|   Fabio| 65|         4| 20000|\n",
      "|    Luca| 24|         3| 15000|\n",
      "| Antonio| 26|         1| 23000|\n",
      "|   Marco|  0|         0| 40000|\n",
      "|    null| 34|        10| 38000|\n",
      "|    null| 36|         0|  null|\n",
      "|    null|  0|         0|  null|\n",
      "+--------+---+----------+------+\n",
      "\n"
     ]
    }
   ],
   "source": [
    "## filling only specific columns\n",
    "## in this example it will not affect \"Salary\"\n",
    "df.na.fill(0,['Age','Experience']).show()"
   ]
  },
  {
   "cell_type": "code",
   "execution_count": 31,
   "id": "214ef34e",
   "metadata": {},
   "outputs": [],
   "source": [
    "## imputer\n",
    "## in this example for every null value in Age, Experience and Salary\n",
    "## we will replace null values with entire column mean\n",
    "from pyspark.ml.feature import Imputer\n",
    "\n",
    "imputer = Imputer(\n",
    "    inputCols=['Age','Experience','Salary'],\n",
    "    outputCols=[\"{}_imputed\".format(c) for c in ['Age','Experience','Salary']]\n",
    ").setStrategy(\"mean\")"
   ]
  },
  {
   "cell_type": "code",
   "execution_count": 32,
   "id": "e8ab41ad",
   "metadata": {},
   "outputs": [
    {
     "name": "stdout",
     "output_type": "stream",
     "text": [
      "+--------+----+----------+------+-----------+------------------+--------------+\n",
      "|    Name| Age|Experience|Salary|Age_imputed|Experience_imputed|Salary_imputed|\n",
      "+--------+----+----------+------+-----------+------------------+--------------+\n",
      "|Giuseppe|  23|        10| 30000|         23|                10|         30000|\n",
      "|   Mario|  45|         8| 25000|         45|                 8|         25000|\n",
      "|   Fabio|  65|         4| 20000|         65|                 4|         20000|\n",
      "|    Luca|  24|         3| 15000|         24|                 3|         15000|\n",
      "| Antonio|  26|         1| 23000|         26|                 1|         23000|\n",
      "|   Marco|null|      null| 40000|         36|                 6|         40000|\n",
      "|    null|  34|        10| 38000|         34|                10|         38000|\n",
      "|    null|  36|      null|  null|         36|                 6|         27285|\n",
      "|    null|null|      null|  null|         36|                 6|         27285|\n",
      "+--------+----+----------+------+-----------+------------------+--------------+\n",
      "\n"
     ]
    }
   ],
   "source": [
    "## add imputation cols to df\n",
    "imputer.fit(df).transform(df).show()"
   ]
  }
 ],
 "metadata": {
  "kernelspec": {
   "display_name": "Python 3 (ipykernel)",
   "language": "python",
   "name": "python3"
  },
  "language_info": {
   "codemirror_mode": {
    "name": "ipython",
    "version": 3
   },
   "file_extension": ".py",
   "mimetype": "text/x-python",
   "name": "python",
   "nbconvert_exporter": "python",
   "pygments_lexer": "ipython3",
   "version": "3.11.1"
  }
 },
 "nbformat": 4,
 "nbformat_minor": 5
}
