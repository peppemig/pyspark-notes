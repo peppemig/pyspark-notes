{
 "cells": [
  {
   "cell_type": "code",
   "execution_count": 1,
   "id": "38878a3d",
   "metadata": {},
   "outputs": [],
   "source": [
    "import pyspark"
   ]
  },
  {
   "cell_type": "code",
   "execution_count": 2,
   "id": "811abb2e",
   "metadata": {},
   "outputs": [],
   "source": [
    "from pyspark.sql import SparkSession"
   ]
  },
  {
   "cell_type": "code",
   "execution_count": 3,
   "id": "65ecd87a",
   "metadata": {},
   "outputs": [],
   "source": [
    "spark=SparkSession.builder.appName('Agg').getOrCreate()"
   ]
  },
  {
   "cell_type": "code",
   "execution_count": 4,
   "id": "5109a77c",
   "metadata": {},
   "outputs": [
    {
     "name": "stdout",
     "output_type": "stream",
     "text": [
      "+--------+------------+------+\n",
      "|    Name|  Department|Salary|\n",
      "+--------+------------+------+\n",
      "|Giuseppe|Data Science| 10000|\n",
      "|Giuseppe|    Big Data|  5000|\n",
      "|   Fabio|    Big Data|  4000|\n",
      "|Giuseppe|     Web Dev|  4000|\n",
      "| Antonio|     Web Dev|  5000|\n",
      "|   Fabio|Data Science|  9000|\n",
      "|   Fabio|     Web Dev|  4000|\n",
      "|  Andrea|    Big Data|  5000|\n",
      "+--------+------------+------+\n",
      "\n"
     ]
    }
   ],
   "source": [
    "## read data set\n",
    "df=spark.read.csv('test5.csv',header=True,inferSchema=True)\n",
    "df.show()"
   ]
  },
  {
   "cell_type": "code",
   "execution_count": 7,
   "id": "e7ee6873",
   "metadata": {},
   "outputs": [
    {
     "name": "stdout",
     "output_type": "stream",
     "text": [
      "+--------+-----------+\n",
      "|    Name|sum(Salary)|\n",
      "+--------+-----------+\n",
      "|Giuseppe|      19000|\n",
      "|  Andrea|       5000|\n",
      "| Antonio|       5000|\n",
      "|   Fabio|      17000|\n",
      "+--------+-----------+\n",
      "\n"
     ]
    }
   ],
   "source": [
    "## groupBy operation\n",
    "## total salary for each person\n",
    "df.groupBy('Name').sum('Salary').show()"
   ]
  },
  {
   "cell_type": "code",
   "execution_count": 12,
   "id": "c84e2fca",
   "metadata": {},
   "outputs": [
    {
     "name": "stdout",
     "output_type": "stream",
     "text": [
      "+------------+-----------+\n",
      "|  Department|sum(Salary)|\n",
      "+------------+-----------+\n",
      "|     Web Dev|      13000|\n",
      "|    Big Data|      14000|\n",
      "|Data Science|      19000|\n",
      "+------------+-----------+\n",
      "\n"
     ]
    }
   ],
   "source": [
    "## groupBy operation\n",
    "## total salary for each department\n",
    "df.groupBy('Department').sum('Salary').show()"
   ]
  },
  {
   "cell_type": "code",
   "execution_count": 13,
   "id": "60491742",
   "metadata": {},
   "outputs": [
    {
     "name": "stdout",
     "output_type": "stream",
     "text": [
      "+------------+-----------------+\n",
      "|  Department|      avg(Salary)|\n",
      "+------------+-----------------+\n",
      "|     Web Dev|4333.333333333333|\n",
      "|    Big Data|4666.666666666667|\n",
      "|Data Science|           9500.0|\n",
      "+------------+-----------------+\n",
      "\n"
     ]
    }
   ],
   "source": [
    "## groupBy operation\n",
    "## avg salary for each department\n",
    "df.groupBy('Department').mean('Salary').show()"
   ]
  },
  {
   "cell_type": "code",
   "execution_count": 17,
   "id": "559b0eef",
   "metadata": {},
   "outputs": [
    {
     "name": "stdout",
     "output_type": "stream",
     "text": [
      "+--------+-----------+\n",
      "|    Name|max(Salary)|\n",
      "+--------+-----------+\n",
      "|Giuseppe|      10000|\n",
      "|  Andrea|       5000|\n",
      "| Antonio|       5000|\n",
      "|   Fabio|       9000|\n",
      "+--------+-----------+\n",
      "\n"
     ]
    }
   ],
   "source": [
    "## groupBy operation\n",
    "## max salary for each person\n",
    "df.groupBy('Name').max('Salary').show()"
   ]
  },
  {
   "cell_type": "code",
   "execution_count": 14,
   "id": "30f6d754",
   "metadata": {},
   "outputs": [
    {
     "name": "stdout",
     "output_type": "stream",
     "text": [
      "+------------+-----+\n",
      "|  Department|count|\n",
      "+------------+-----+\n",
      "|     Web Dev|    3|\n",
      "|    Big Data|    3|\n",
      "|Data Science|    2|\n",
      "+------------+-----+\n",
      "\n"
     ]
    }
   ],
   "source": [
    "## groupBy operation\n",
    "## how many people are working in each department\n",
    "df.groupBy('Department').count().show()"
   ]
  },
  {
   "cell_type": "code",
   "execution_count": 16,
   "id": "c6dd51ef",
   "metadata": {
    "scrolled": true
   },
   "outputs": [
    {
     "name": "stdout",
     "output_type": "stream",
     "text": [
      "+-----------+\n",
      "|sum(Salary)|\n",
      "+-----------+\n",
      "|      46000|\n",
      "+-----------+\n",
      "\n"
     ]
    }
   ],
   "source": [
    "## aggregate operation\n",
    "## total salaries (salary column sum)\n",
    "df.agg({'Salary':'sum'}).show()"
   ]
  }
 ],
 "metadata": {
  "kernelspec": {
   "display_name": "Python 3 (ipykernel)",
   "language": "python",
   "name": "python3"
  },
  "language_info": {
   "codemirror_mode": {
    "name": "ipython",
    "version": 3
   },
   "file_extension": ".py",
   "mimetype": "text/x-python",
   "name": "python",
   "nbconvert_exporter": "python",
   "pygments_lexer": "ipython3",
   "version": "3.11.1"
  }
 },
 "nbformat": 4,
 "nbformat_minor": 5
}
